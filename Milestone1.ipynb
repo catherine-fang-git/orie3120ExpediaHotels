{
 "cells": [
  {
   "cell_type": "markdown",
   "metadata": {},
   "source": [
    "# **Milestone 1: Expedia Hotel DataSet**\n",
    "#### ORIE 3120 Spring 2024. Catherine Fang, Timothy Li, Rose Liu, Isabella Guan"
   ]
  },
  {
   "cell_type": "markdown",
   "metadata": {},
   "source": [
    "#### **Research Questions**\n",
    "1. How does the date that the hotel room was booked relate to the price of the hotel per night?\n",
    "2. \n",
    "3. \n",
    "4. "
   ]
  },
  {
   "cell_type": "code",
   "execution_count": 1,
   "metadata": {},
   "outputs": [
    {
     "name": "stderr",
     "output_type": "stream",
     "text": [
      "/home/codespace/.python/current/lib/python3.12/site-packages/tqdm/auto.py:21: TqdmWarning: IProgress not found. Please update jupyter and ipywidgets. See https://ipywidgets.readthedocs.io/en/stable/user_install.html\n",
      "  from .autonotebook import tqdm as notebook_tqdm\n"
     ]
    },
    {
     "name": "stdout",
     "output_type": "stream",
     "text": [
      "Path to dataset files: /home/codespace/.cache/kagglehub/datasets/vijeetnigam26/expedia-hotel/versions/2\n"
     ]
    }
   ],
   "source": [
    "import pandas as pd\n",
    "# %pip install kagglehub[pandas-datasets]\n",
    "import kagglehub\n",
    "from kagglehub import KaggleDatasetAdapter\n",
    "\n",
    "path = kagglehub.dataset_download(\"vijeetnigam26/expedia-hotel\")\n",
    "\n",
    "print(\"Path to dataset files:\", path)\n",
    "path = path + \"/train.csv\""
   ]
  },
  {
   "cell_type": "code",
   "execution_count": 2,
   "metadata": {},
   "outputs": [
    {
     "ename": "",
     "evalue": "",
     "output_type": "error",
     "traceback": [
      "\u001b[1;31mThe Kernel crashed while executing code in the current cell or a previous cell. \n",
      "\u001b[1;31mPlease review the code in the cell(s) to identify a possible cause of the failure. \n",
      "\u001b[1;31mClick <a href='https://aka.ms/vscodeJupyterKernelCrash'>here</a> for more info. \n",
      "\u001b[1;31mView Jupyter <a href='command:jupyter.viewOutput'>log</a> for further details."
     ]
    }
   ],
   "source": [
    "# Set the path to the file you'd like to load\n",
    "# file_path = \"\"\n",
    "\n",
    "# # Load the latest version\n",
    "# df = kagglehub.load_dataset(\n",
    "#   KaggleDatasetAdapter.PANDAS,\n",
    "#   \"vijeetnigam26/expedia-hotel\",\n",
    "#   file_path,\n",
    "#   # Provide any additional arguments like \n",
    "#   # sql_query or pandas_kwargs. See the \n",
    "#   # documenation for more information:\n",
    "#   # https://github.com/Kaggle/kagglehub/blob/main/README.md#kaggledatasetadapterpandas\n",
    "# )\n",
    "# print(\"First 5 records:\", df.head())\n",
    "\n",
    "data = pd.read_csv(path)\n",
    "\n",
    "data.head()"
   ]
  }
 ],
 "metadata": {
  "kernelspec": {
   "display_name": "Python 3",
   "language": "python",
   "name": "python3"
  },
  "language_info": {
   "codemirror_mode": {
    "name": "ipython",
    "version": 3
   },
   "file_extension": ".py",
   "mimetype": "text/x-python",
   "name": "python",
   "nbconvert_exporter": "python",
   "pygments_lexer": "ipython3",
   "version": "3.12.1"
  }
 },
 "nbformat": 4,
 "nbformat_minor": 2
}
